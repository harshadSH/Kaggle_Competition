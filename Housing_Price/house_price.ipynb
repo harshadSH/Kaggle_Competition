{
 "cells": [
  {
   "cell_type": "code",
   "execution_count": 11,
   "id": "initial_id",
   "metadata": {
    "collapsed": true,
    "ExecuteTime": {
     "end_time": "2024-10-08T12:57:44.763691700Z",
     "start_time": "2024-10-08T12:57:44.717368800Z"
    }
   },
   "outputs": [],
   "source": [
    "import pandas as pd\n",
    "import numpy as np\n",
    "import matplotlib.pyplot as plt\n",
    "import seaborn as sns\n"
   ]
  },
  {
   "cell_type": "code",
   "outputs": [],
   "source": [
    "df_1 = pd.read_csv(\"train.csv\")\n",
    "df_2 = pd.read_csv(\"test.csv\")\n",
    "if 'SalePrice' not in df_2.columns:\n",
    "    df_2[\"SalePrice\"] = 0\n",
    "\n",
    "df = pd.concat([df_1, df_2], axis=0)\n",
    "df = df.set_index('Id')"
   ],
   "metadata": {
    "collapsed": false,
    "ExecuteTime": {
     "end_time": "2024-10-08T12:57:45.324093300Z",
     "start_time": "2024-10-08T12:57:45.255080700Z"
    }
   },
   "id": "5103a6d49311d8f2",
   "execution_count": 12
  },
  {
   "cell_type": "code",
   "outputs": [
    {
     "data": {
      "text/plain": "      MSSubClass MSZoning  LotFrontage  LotArea Street Alley LotShape  \\\nId                                                                      \n1             60       RL         65.0     8450   Pave   NaN      Reg   \n2             20       RL         80.0     9600   Pave   NaN      Reg   \n3             60       RL         68.0    11250   Pave   NaN      IR1   \n4             70       RL         60.0     9550   Pave   NaN      IR1   \n5             60       RL         84.0    14260   Pave   NaN      IR1   \n...          ...      ...          ...      ...    ...   ...      ...   \n2915         160       RM         21.0     1936   Pave   NaN      Reg   \n2916         160       RM         21.0     1894   Pave   NaN      Reg   \n2917          20       RL        160.0    20000   Pave   NaN      Reg   \n2918          85       RL         62.0    10441   Pave   NaN      Reg   \n2919          60       RL         74.0     9627   Pave   NaN      Reg   \n\n     LandContour Utilities LotConfig  ... PoolArea PoolQC  Fence MiscFeature  \\\nId                                    ...                                      \n1            Lvl    AllPub    Inside  ...        0    NaN    NaN         NaN   \n2            Lvl    AllPub       FR2  ...        0    NaN    NaN         NaN   \n3            Lvl    AllPub    Inside  ...        0    NaN    NaN         NaN   \n4            Lvl    AllPub    Corner  ...        0    NaN    NaN         NaN   \n5            Lvl    AllPub       FR2  ...        0    NaN    NaN         NaN   \n...          ...       ...       ...  ...      ...    ...    ...         ...   \n2915         Lvl    AllPub    Inside  ...        0    NaN    NaN         NaN   \n2916         Lvl    AllPub    Inside  ...        0    NaN    NaN         NaN   \n2917         Lvl    AllPub    Inside  ...        0    NaN    NaN         NaN   \n2918         Lvl    AllPub    Inside  ...        0    NaN  MnPrv        Shed   \n2919         Lvl    AllPub    Inside  ...        0    NaN    NaN         NaN   \n\n     MiscVal MoSold  YrSold  SaleType  SaleCondition  SalePrice  \nId                                                               \n1          0      2    2008        WD         Normal     208500  \n2          0      5    2007        WD         Normal     181500  \n3          0      9    2008        WD         Normal     223500  \n4          0      2    2006        WD        Abnorml     140000  \n5          0     12    2008        WD         Normal     250000  \n...      ...    ...     ...       ...            ...        ...  \n2915       0      6    2006        WD         Normal          0  \n2916       0      4    2006        WD        Abnorml          0  \n2917       0      9    2006        WD        Abnorml          0  \n2918     700      7    2006        WD         Normal          0  \n2919       0     11    2006        WD         Normal          0  \n\n[2919 rows x 80 columns]",
      "text/html": "<div>\n<style scoped>\n    .dataframe tbody tr th:only-of-type {\n        vertical-align: middle;\n    }\n\n    .dataframe tbody tr th {\n        vertical-align: top;\n    }\n\n    .dataframe thead th {\n        text-align: right;\n    }\n</style>\n<table border=\"1\" class=\"dataframe\">\n  <thead>\n    <tr style=\"text-align: right;\">\n      <th></th>\n      <th>MSSubClass</th>\n      <th>MSZoning</th>\n      <th>LotFrontage</th>\n      <th>LotArea</th>\n      <th>Street</th>\n      <th>Alley</th>\n      <th>LotShape</th>\n      <th>LandContour</th>\n      <th>Utilities</th>\n      <th>LotConfig</th>\n      <th>...</th>\n      <th>PoolArea</th>\n      <th>PoolQC</th>\n      <th>Fence</th>\n      <th>MiscFeature</th>\n      <th>MiscVal</th>\n      <th>MoSold</th>\n      <th>YrSold</th>\n      <th>SaleType</th>\n      <th>SaleCondition</th>\n      <th>SalePrice</th>\n    </tr>\n    <tr>\n      <th>Id</th>\n      <th></th>\n      <th></th>\n      <th></th>\n      <th></th>\n      <th></th>\n      <th></th>\n      <th></th>\n      <th></th>\n      <th></th>\n      <th></th>\n      <th></th>\n      <th></th>\n      <th></th>\n      <th></th>\n      <th></th>\n      <th></th>\n      <th></th>\n      <th></th>\n      <th></th>\n      <th></th>\n      <th></th>\n    </tr>\n  </thead>\n  <tbody>\n    <tr>\n      <th>1</th>\n      <td>60</td>\n      <td>RL</td>\n      <td>65.0</td>\n      <td>8450</td>\n      <td>Pave</td>\n      <td>NaN</td>\n      <td>Reg</td>\n      <td>Lvl</td>\n      <td>AllPub</td>\n      <td>Inside</td>\n      <td>...</td>\n      <td>0</td>\n      <td>NaN</td>\n      <td>NaN</td>\n      <td>NaN</td>\n      <td>0</td>\n      <td>2</td>\n      <td>2008</td>\n      <td>WD</td>\n      <td>Normal</td>\n      <td>208500</td>\n    </tr>\n    <tr>\n      <th>2</th>\n      <td>20</td>\n      <td>RL</td>\n      <td>80.0</td>\n      <td>9600</td>\n      <td>Pave</td>\n      <td>NaN</td>\n      <td>Reg</td>\n      <td>Lvl</td>\n      <td>AllPub</td>\n      <td>FR2</td>\n      <td>...</td>\n      <td>0</td>\n      <td>NaN</td>\n      <td>NaN</td>\n      <td>NaN</td>\n      <td>0</td>\n      <td>5</td>\n      <td>2007</td>\n      <td>WD</td>\n      <td>Normal</td>\n      <td>181500</td>\n    </tr>\n    <tr>\n      <th>3</th>\n      <td>60</td>\n      <td>RL</td>\n      <td>68.0</td>\n      <td>11250</td>\n      <td>Pave</td>\n      <td>NaN</td>\n      <td>IR1</td>\n      <td>Lvl</td>\n      <td>AllPub</td>\n      <td>Inside</td>\n      <td>...</td>\n      <td>0</td>\n      <td>NaN</td>\n      <td>NaN</td>\n      <td>NaN</td>\n      <td>0</td>\n      <td>9</td>\n      <td>2008</td>\n      <td>WD</td>\n      <td>Normal</td>\n      <td>223500</td>\n    </tr>\n    <tr>\n      <th>4</th>\n      <td>70</td>\n      <td>RL</td>\n      <td>60.0</td>\n      <td>9550</td>\n      <td>Pave</td>\n      <td>NaN</td>\n      <td>IR1</td>\n      <td>Lvl</td>\n      <td>AllPub</td>\n      <td>Corner</td>\n      <td>...</td>\n      <td>0</td>\n      <td>NaN</td>\n      <td>NaN</td>\n      <td>NaN</td>\n      <td>0</td>\n      <td>2</td>\n      <td>2006</td>\n      <td>WD</td>\n      <td>Abnorml</td>\n      <td>140000</td>\n    </tr>\n    <tr>\n      <th>5</th>\n      <td>60</td>\n      <td>RL</td>\n      <td>84.0</td>\n      <td>14260</td>\n      <td>Pave</td>\n      <td>NaN</td>\n      <td>IR1</td>\n      <td>Lvl</td>\n      <td>AllPub</td>\n      <td>FR2</td>\n      <td>...</td>\n      <td>0</td>\n      <td>NaN</td>\n      <td>NaN</td>\n      <td>NaN</td>\n      <td>0</td>\n      <td>12</td>\n      <td>2008</td>\n      <td>WD</td>\n      <td>Normal</td>\n      <td>250000</td>\n    </tr>\n    <tr>\n      <th>...</th>\n      <td>...</td>\n      <td>...</td>\n      <td>...</td>\n      <td>...</td>\n      <td>...</td>\n      <td>...</td>\n      <td>...</td>\n      <td>...</td>\n      <td>...</td>\n      <td>...</td>\n      <td>...</td>\n      <td>...</td>\n      <td>...</td>\n      <td>...</td>\n      <td>...</td>\n      <td>...</td>\n      <td>...</td>\n      <td>...</td>\n      <td>...</td>\n      <td>...</td>\n      <td>...</td>\n    </tr>\n    <tr>\n      <th>2915</th>\n      <td>160</td>\n      <td>RM</td>\n      <td>21.0</td>\n      <td>1936</td>\n      <td>Pave</td>\n      <td>NaN</td>\n      <td>Reg</td>\n      <td>Lvl</td>\n      <td>AllPub</td>\n      <td>Inside</td>\n      <td>...</td>\n      <td>0</td>\n      <td>NaN</td>\n      <td>NaN</td>\n      <td>NaN</td>\n      <td>0</td>\n      <td>6</td>\n      <td>2006</td>\n      <td>WD</td>\n      <td>Normal</td>\n      <td>0</td>\n    </tr>\n    <tr>\n      <th>2916</th>\n      <td>160</td>\n      <td>RM</td>\n      <td>21.0</td>\n      <td>1894</td>\n      <td>Pave</td>\n      <td>NaN</td>\n      <td>Reg</td>\n      <td>Lvl</td>\n      <td>AllPub</td>\n      <td>Inside</td>\n      <td>...</td>\n      <td>0</td>\n      <td>NaN</td>\n      <td>NaN</td>\n      <td>NaN</td>\n      <td>0</td>\n      <td>4</td>\n      <td>2006</td>\n      <td>WD</td>\n      <td>Abnorml</td>\n      <td>0</td>\n    </tr>\n    <tr>\n      <th>2917</th>\n      <td>20</td>\n      <td>RL</td>\n      <td>160.0</td>\n      <td>20000</td>\n      <td>Pave</td>\n      <td>NaN</td>\n      <td>Reg</td>\n      <td>Lvl</td>\n      <td>AllPub</td>\n      <td>Inside</td>\n      <td>...</td>\n      <td>0</td>\n      <td>NaN</td>\n      <td>NaN</td>\n      <td>NaN</td>\n      <td>0</td>\n      <td>9</td>\n      <td>2006</td>\n      <td>WD</td>\n      <td>Abnorml</td>\n      <td>0</td>\n    </tr>\n    <tr>\n      <th>2918</th>\n      <td>85</td>\n      <td>RL</td>\n      <td>62.0</td>\n      <td>10441</td>\n      <td>Pave</td>\n      <td>NaN</td>\n      <td>Reg</td>\n      <td>Lvl</td>\n      <td>AllPub</td>\n      <td>Inside</td>\n      <td>...</td>\n      <td>0</td>\n      <td>NaN</td>\n      <td>MnPrv</td>\n      <td>Shed</td>\n      <td>700</td>\n      <td>7</td>\n      <td>2006</td>\n      <td>WD</td>\n      <td>Normal</td>\n      <td>0</td>\n    </tr>\n    <tr>\n      <th>2919</th>\n      <td>60</td>\n      <td>RL</td>\n      <td>74.0</td>\n      <td>9627</td>\n      <td>Pave</td>\n      <td>NaN</td>\n      <td>Reg</td>\n      <td>Lvl</td>\n      <td>AllPub</td>\n      <td>Inside</td>\n      <td>...</td>\n      <td>0</td>\n      <td>NaN</td>\n      <td>NaN</td>\n      <td>NaN</td>\n      <td>0</td>\n      <td>11</td>\n      <td>2006</td>\n      <td>WD</td>\n      <td>Normal</td>\n      <td>0</td>\n    </tr>\n  </tbody>\n</table>\n<p>2919 rows × 80 columns</p>\n</div>"
     },
     "execution_count": 13,
     "metadata": {},
     "output_type": "execute_result"
    }
   ],
   "source": [
    "df"
   ],
   "metadata": {
    "collapsed": false,
    "ExecuteTime": {
     "end_time": "2024-10-08T12:57:46.253480800Z",
     "start_time": "2024-10-08T12:57:46.176385Z"
    }
   },
   "id": "9b1c313fab821f69",
   "execution_count": 13
  },
  {
   "cell_type": "code",
   "outputs": [
    {
     "data": {
      "text/plain": "MSSubClass         0\nMSZoning           4\nLotFrontage      486\nLotArea            0\nStreet             0\n                ... \nMoSold             0\nYrSold             0\nSaleType           1\nSaleCondition      0\nSalePrice          0\nLength: 80, dtype: int64"
     },
     "execution_count": 14,
     "metadata": {},
     "output_type": "execute_result"
    }
   ],
   "source": [
    "df.isnull().sum()"
   ],
   "metadata": {
    "collapsed": false,
    "ExecuteTime": {
     "end_time": "2024-10-08T12:57:47.788629600Z",
     "start_time": "2024-10-08T12:57:47.702827400Z"
    }
   },
   "id": "c0794d7c3bd88bce",
   "execution_count": 14
  },
  {
   "cell_type": "code",
   "outputs": [
    {
     "data": {
      "text/plain": "   MSZoning  LotFrontage Alley Utilities Exterior1st Exterior2nd MasVnrType  \\\nId                                                                            \n1        RL         65.0   NaN    AllPub     VinylSd     VinylSd    BrkFace   \n2        RL         80.0   NaN    AllPub     MetalSd     MetalSd        NaN   \n3        RL         68.0   NaN    AllPub     VinylSd     VinylSd    BrkFace   \n4        RL         60.0   NaN    AllPub     Wd Sdng     Wd Shng        NaN   \n5        RL         84.0   NaN    AllPub     VinylSd     VinylSd    BrkFace   \n\n    MasVnrArea BsmtQual BsmtCond  ... GarageYrBlt GarageFinish  GarageCars  \\\nId                                ...                                        \n1        196.0       Gd       TA  ...      2003.0          RFn         2.0   \n2          0.0       Gd       TA  ...      1976.0          RFn         2.0   \n3        162.0       Gd       TA  ...      2001.0          RFn         2.0   \n4          0.0       TA       Gd  ...      1998.0          Unf         3.0   \n5        350.0       Gd       TA  ...      2000.0          RFn         3.0   \n\n   GarageArea  GarageQual  GarageCond  PoolQC Fence  MiscFeature  SaleType  \nId                                                                          \n1       548.0          TA          TA     NaN   NaN          NaN        WD  \n2       460.0          TA          TA     NaN   NaN          NaN        WD  \n3       608.0          TA          TA     NaN   NaN          NaN        WD  \n4       642.0          TA          TA     NaN   NaN          NaN        WD  \n5       836.0          TA          TA     NaN   NaN          NaN        WD  \n\n[5 rows x 34 columns]",
      "text/html": "<div>\n<style scoped>\n    .dataframe tbody tr th:only-of-type {\n        vertical-align: middle;\n    }\n\n    .dataframe tbody tr th {\n        vertical-align: top;\n    }\n\n    .dataframe thead th {\n        text-align: right;\n    }\n</style>\n<table border=\"1\" class=\"dataframe\">\n  <thead>\n    <tr style=\"text-align: right;\">\n      <th></th>\n      <th>MSZoning</th>\n      <th>LotFrontage</th>\n      <th>Alley</th>\n      <th>Utilities</th>\n      <th>Exterior1st</th>\n      <th>Exterior2nd</th>\n      <th>MasVnrType</th>\n      <th>MasVnrArea</th>\n      <th>BsmtQual</th>\n      <th>BsmtCond</th>\n      <th>...</th>\n      <th>GarageYrBlt</th>\n      <th>GarageFinish</th>\n      <th>GarageCars</th>\n      <th>GarageArea</th>\n      <th>GarageQual</th>\n      <th>GarageCond</th>\n      <th>PoolQC</th>\n      <th>Fence</th>\n      <th>MiscFeature</th>\n      <th>SaleType</th>\n    </tr>\n    <tr>\n      <th>Id</th>\n      <th></th>\n      <th></th>\n      <th></th>\n      <th></th>\n      <th></th>\n      <th></th>\n      <th></th>\n      <th></th>\n      <th></th>\n      <th></th>\n      <th></th>\n      <th></th>\n      <th></th>\n      <th></th>\n      <th></th>\n      <th></th>\n      <th></th>\n      <th></th>\n      <th></th>\n      <th></th>\n      <th></th>\n    </tr>\n  </thead>\n  <tbody>\n    <tr>\n      <th>1</th>\n      <td>RL</td>\n      <td>65.0</td>\n      <td>NaN</td>\n      <td>AllPub</td>\n      <td>VinylSd</td>\n      <td>VinylSd</td>\n      <td>BrkFace</td>\n      <td>196.0</td>\n      <td>Gd</td>\n      <td>TA</td>\n      <td>...</td>\n      <td>2003.0</td>\n      <td>RFn</td>\n      <td>2.0</td>\n      <td>548.0</td>\n      <td>TA</td>\n      <td>TA</td>\n      <td>NaN</td>\n      <td>NaN</td>\n      <td>NaN</td>\n      <td>WD</td>\n    </tr>\n    <tr>\n      <th>2</th>\n      <td>RL</td>\n      <td>80.0</td>\n      <td>NaN</td>\n      <td>AllPub</td>\n      <td>MetalSd</td>\n      <td>MetalSd</td>\n      <td>NaN</td>\n      <td>0.0</td>\n      <td>Gd</td>\n      <td>TA</td>\n      <td>...</td>\n      <td>1976.0</td>\n      <td>RFn</td>\n      <td>2.0</td>\n      <td>460.0</td>\n      <td>TA</td>\n      <td>TA</td>\n      <td>NaN</td>\n      <td>NaN</td>\n      <td>NaN</td>\n      <td>WD</td>\n    </tr>\n    <tr>\n      <th>3</th>\n      <td>RL</td>\n      <td>68.0</td>\n      <td>NaN</td>\n      <td>AllPub</td>\n      <td>VinylSd</td>\n      <td>VinylSd</td>\n      <td>BrkFace</td>\n      <td>162.0</td>\n      <td>Gd</td>\n      <td>TA</td>\n      <td>...</td>\n      <td>2001.0</td>\n      <td>RFn</td>\n      <td>2.0</td>\n      <td>608.0</td>\n      <td>TA</td>\n      <td>TA</td>\n      <td>NaN</td>\n      <td>NaN</td>\n      <td>NaN</td>\n      <td>WD</td>\n    </tr>\n    <tr>\n      <th>4</th>\n      <td>RL</td>\n      <td>60.0</td>\n      <td>NaN</td>\n      <td>AllPub</td>\n      <td>Wd Sdng</td>\n      <td>Wd Shng</td>\n      <td>NaN</td>\n      <td>0.0</td>\n      <td>TA</td>\n      <td>Gd</td>\n      <td>...</td>\n      <td>1998.0</td>\n      <td>Unf</td>\n      <td>3.0</td>\n      <td>642.0</td>\n      <td>TA</td>\n      <td>TA</td>\n      <td>NaN</td>\n      <td>NaN</td>\n      <td>NaN</td>\n      <td>WD</td>\n    </tr>\n    <tr>\n      <th>5</th>\n      <td>RL</td>\n      <td>84.0</td>\n      <td>NaN</td>\n      <td>AllPub</td>\n      <td>VinylSd</td>\n      <td>VinylSd</td>\n      <td>BrkFace</td>\n      <td>350.0</td>\n      <td>Gd</td>\n      <td>TA</td>\n      <td>...</td>\n      <td>2000.0</td>\n      <td>RFn</td>\n      <td>3.0</td>\n      <td>836.0</td>\n      <td>TA</td>\n      <td>TA</td>\n      <td>NaN</td>\n      <td>NaN</td>\n      <td>NaN</td>\n      <td>WD</td>\n    </tr>\n  </tbody>\n</table>\n<p>5 rows × 34 columns</p>\n</div>"
     },
     "execution_count": 15,
     "metadata": {},
     "output_type": "execute_result"
    }
   ],
   "source": [
    "df_null = df[df.isnull().sum()[df.isnull().sum()>0].index]\n",
    "df_null.head()"
   ],
   "metadata": {
    "collapsed": false,
    "ExecuteTime": {
     "end_time": "2024-10-08T12:57:48.890922300Z",
     "start_time": "2024-10-08T12:57:48.837275100Z"
    }
   },
   "id": "52535818e1558233",
   "execution_count": 15
  },
  {
   "cell_type": "code",
   "outputs": [
    {
     "data": {
      "text/plain": "<Axes: ylabel='Id'>"
     },
     "execution_count": 16,
     "metadata": {},
     "output_type": "execute_result"
    },
    {
     "data": {
      "text/plain": "<Figure size 640x480 with 2 Axes>",
      "image/png": "[encoded data removed]"
     },
     "metadata": {},
     "output_type": "display_data"
    }
   ],
   "source": [
    "sns.heatmap(df_null.isnull())"
   ],
   "metadata": {
    "collapsed": false,
    "ExecuteTime": {
     "end_time": "2024-10-08T12:57:51.061497500Z",
     "start_time": "2024-10-08T12:57:50.344638700Z"
    }
   },
   "id": "bdbf28d6dd7cf8f2",
   "execution_count": 16
  },
  {
   "cell_type": "code",
   "outputs": [],
   "source": [
    "df_object = df[df.select_dtypes(include=['object']).columns]"
   ],
   "metadata": {
    "collapsed": false,
    "ExecuteTime": {
     "end_time": "2024-10-08T12:57:51.852943300Z",
     "start_time": "2024-10-08T12:57:51.806856700Z"
    }
   },
   "id": "a2eec93f408b6095",
   "execution_count": 17
  },
  {
   "cell_type": "code",
   "outputs": [
    {
     "data": {
      "text/plain": "     MSZoning Street Alley LotShape LandContour Utilities LotConfig LandSlope  \\\nId                                                                              \n1          RL   Pave   NaN      Reg         Lvl    AllPub    Inside       Gtl   \n2          RL   Pave   NaN      Reg         Lvl    AllPub       FR2       Gtl   \n3          RL   Pave   NaN      IR1         Lvl    AllPub    Inside       Gtl   \n4          RL   Pave   NaN      IR1         Lvl    AllPub    Corner       Gtl   \n5          RL   Pave   NaN      IR1         Lvl    AllPub       FR2       Gtl   \n...       ...    ...   ...      ...         ...       ...       ...       ...   \n2915       RM   Pave   NaN      Reg         Lvl    AllPub    Inside       Gtl   \n2916       RM   Pave   NaN      Reg         Lvl    AllPub    Inside       Gtl   \n2917       RL   Pave   NaN      Reg         Lvl    AllPub    Inside       Gtl   \n2918       RL   Pave   NaN      Reg         Lvl    AllPub    Inside       Gtl   \n2919       RL   Pave   NaN      Reg         Lvl    AllPub    Inside       Mod   \n\n     Neighborhood Condition1  ... GarageType GarageFinish GarageQual  \\\nId                            ...                                      \n1         CollgCr       Norm  ...     Attchd          RFn         TA   \n2         Veenker      Feedr  ...     Attchd          RFn         TA   \n3         CollgCr       Norm  ...     Attchd          RFn         TA   \n4         Crawfor       Norm  ...     Detchd          Unf         TA   \n5         NoRidge       Norm  ...     Attchd          RFn         TA   \n...           ...        ...  ...        ...          ...        ...   \n2915      MeadowV       Norm  ...        NaN          NaN        NaN   \n2916      MeadowV       Norm  ...    CarPort          Unf         TA   \n2917      Mitchel       Norm  ...     Detchd          Unf         TA   \n2918      Mitchel       Norm  ...        NaN          NaN        NaN   \n2919      Mitchel       Norm  ...     Attchd          Fin         TA   \n\n     GarageCond PavedDrive PoolQC  Fence MiscFeature SaleType SaleCondition  \nId                                                                           \n1            TA          Y    NaN    NaN         NaN       WD        Normal  \n2            TA          Y    NaN    NaN         NaN       WD        Normal  \n3            TA          Y    NaN    NaN         NaN       WD        Normal  \n4            TA          Y    NaN    NaN         NaN       WD       Abnorml  \n5            TA          Y    NaN    NaN         NaN       WD        Normal  \n...         ...        ...    ...    ...         ...      ...           ...  \n2915        NaN          Y    NaN    NaN         NaN       WD        Normal  \n2916         TA          Y    NaN    NaN         NaN       WD       Abnorml  \n2917         TA          Y    NaN    NaN         NaN       WD       Abnorml  \n2918        NaN          Y    NaN  MnPrv        Shed       WD        Normal  \n2919         TA          Y    NaN    NaN         NaN       WD        Normal  \n\n[2919 rows x 43 columns]",
      "text/html": "<div>\n<style scoped>\n    .dataframe tbody tr th:only-of-type {\n        vertical-align: middle;\n    }\n\n    .dataframe tbody tr th {\n        vertical-align: top;\n    }\n\n    .dataframe thead th {\n        text-align: right;\n    }\n</style>\n<table border=\"1\" class=\"dataframe\">\n  <thead>\n    <tr style=\"text-align: right;\">\n      <th></th>\n      <th>MSZoning</th>\n      <th>Street</th>\n      <th>Alley</th>\n      <th>LotShape</th>\n      <th>LandContour</th>\n      <th>Utilities</th>\n      <th>LotConfig</th>\n      <th>LandSlope</th>\n      <th>Neighborhood</th>\n      <th>Condition1</th>\n      <th>...</th>\n      <th>GarageType</th>\n      <th>GarageFinish</th>\n      <th>GarageQual</th>\n      <th>GarageCond</th>\n      <th>PavedDrive</th>\n      <th>PoolQC</th>\n      <th>Fence</th>\n      <th>MiscFeature</th>\n      <th>SaleType</th>\n      <th>SaleCondition</th>\n    </tr>\n    <tr>\n      <th>Id</th>\n      <th></th>\n      <th></th>\n      <th></th>\n      <th></th>\n      <th></th>\n      <th></th>\n      <th></th>\n      <th></th>\n      <th></th>\n      <th></th>\n      <th></th>\n      <th></th>\n      <th></th>\n      <th></th>\n      <th></th>\n      <th></th>\n      <th></th>\n      <th></th>\n      <th></th>\n      <th></th>\n      <th></th>\n    </tr>\n  </thead>\n  <tbody>\n    <tr>\n      <th>1</th>\n      <td>RL</td>\n      <td>Pave</td>\n      <td>NaN</td>\n      <td>Reg</td>\n      <td>Lvl</td>\n      <td>AllPub</td>\n      <td>Inside</td>\n      <td>Gtl</td>\n      <td>CollgCr</td>\n      <td>Norm</td>\n      <td>...</td>\n      <td>Attchd</td>\n      <td>RFn</td>\n      <td>TA</td>\n      <td>TA</td>\n      <td>Y</td>\n      <td>NaN</td>\n      <td>NaN</td>\n      <td>NaN</td>\n      <td>WD</td>\n      <td>Normal</td>\n    </tr>\n    <tr>\n      <th>2</th>\n      <td>RL</td>\n      <td>Pave</td>\n      <td>NaN</td>\n      <td>Reg</td>\n      <td>Lvl</td>\n      <td>AllPub</td>\n      <td>FR2</td>\n      <td>Gtl</td>\n      <td>Veenker</td>\n      <td>Feedr</td>\n      <td>...</td>\n      <td>Attchd</td>\n      <td>RFn</td>\n      <td>TA</td>\n      <td>TA</td>\n      <td>Y</td>\n      <td>NaN</td>\n      <td>NaN</td>\n      <td>NaN</td>\n      <td>WD</td>\n      <td>Normal</td>\n    </tr>\n    <tr>\n      <th>3</th>\n      <td>RL</td>\n      <td>Pave</td>\n      <td>NaN</td>\n      <td>IR1</td>\n      <td>Lvl</td>\n      <td>AllPub</td>\n      <td>Inside</td>\n      <td>Gtl</td>\n      <td>CollgCr</td>\n      <td>Norm</td>\n      <td>...</td>\n      <td>Attchd</td>\n      <td>RFn</td>\n      <td>TA</td>\n      <td>TA</td>\n      <td>Y</td>\n      <td>NaN</td>\n      <td>NaN</td>\n      <td>NaN</td>\n      <td>WD</td>\n      <td>Normal</td>\n    </tr>\n    <tr>\n      <th>4</th>\n      <td>RL</td>\n      <td>Pave</td>\n      <td>NaN</td>\n      <td>IR1</td>\n      <td>Lvl</td>\n      <td>AllPub</td>\n      <td>Corner</td>\n      <td>Gtl</td>\n      <td>Crawfor</td>\n      <td>Norm</td>\n      <td>...</td>\n      <td>Detchd</td>\n      <td>Unf</td>\n      <td>TA</td>\n      <td>TA</td>\n      <td>Y</td>\n      <td>NaN</td>\n      <td>NaN</td>\n      <td>NaN</td>\n      <td>WD</td>\n      <td>Abnorml</td>\n    </tr>\n    <tr>\n      <th>5</th>\n      <td>RL</td>\n      <td>Pave</td>\n      <td>NaN</td>\n      <td>IR1</td>\n      <td>Lvl</td>\n      <td>AllPub</td>\n      <td>FR2</td>\n      <td>Gtl</td>\n      <td>NoRidge</td>\n      <td>Norm</td>\n      <td>...</td>\n      <td>Attchd</td>\n      <td>RFn</td>\n      <td>TA</td>\n      <td>TA</td>\n      <td>Y</td>\n      <td>NaN</td>\n      <td>NaN</td>\n      <td>NaN</td>\n      <td>WD</td>\n      <td>Normal</td>\n    </tr>\n    <tr>\n      <th>...</th>\n      <td>...</td>\n      <td>...</td>\n      <td>...</td>\n      <td>...</td>\n      <td>...</td>\n      <td>...</td>\n      <td>...</td>\n      <td>...</td>\n      <td>...</td>\n      <td>...</td>\n      <td>...</td>\n      <td>...</td>\n      <td>...</td>\n      <td>...</td>\n      <td>...</td>\n      <td>...</td>\n      <td>...</td>\n      <td>...</td>\n      <td>...</td>\n      <td>...</td>\n      <td>...</td>\n    </tr>\n    <tr>\n      <th>2915</th>\n      <td>RM</td>\n      <td>Pave</td>\n      <td>NaN</td>\n      <td>Reg</td>\n      <td>Lvl</td>\n      <td>AllPub</td>\n      <td>Inside</td>\n      <td>Gtl</td>\n      <td>MeadowV</td>\n      <td>Norm</td>\n      <td>...</td>\n      <td>NaN</td>\n      <td>NaN</td>\n      <td>NaN</td>\n      <td>NaN</td>\n      <td>Y</td>\n      <td>NaN</td>\n      <td>NaN</td>\n      <td>NaN</td>\n      <td>WD</td>\n      <td>Normal</td>\n    </tr>\n    <tr>\n      <th>2916</th>\n      <td>RM</td>\n      <td>Pave</td>\n      <td>NaN</td>\n      <td>Reg</td>\n      <td>Lvl</td>\n      <td>AllPub</td>\n      <td>Inside</td>\n      <td>Gtl</td>\n      <td>MeadowV</td>\n      <td>Norm</td>\n      <td>...</td>\n      <td>CarPort</td>\n      <td>Unf</td>\n      <td>TA</td>\n      <td>TA</td>\n      <td>Y</td>\n      <td>NaN</td>\n      <td>NaN</td>\n      <td>NaN</td>\n      <td>WD</td>\n      <td>Abnorml</td>\n    </tr>\n    <tr>\n      <th>2917</th>\n      <td>RL</td>\n      <td>Pave</td>\n      <td>NaN</td>\n      <td>Reg</td>\n      <td>Lvl</td>\n      <td>AllPub</td>\n      <td>Inside</td>\n      <td>Gtl</td>\n      <td>Mitchel</td>\n      <td>Norm</td>\n      <td>...</td>\n      <td>Detchd</td>\n      <td>Unf</td>\n      <td>TA</td>\n      <td>TA</td>\n      <td>Y</td>\n      <td>NaN</td>\n      <td>NaN</td>\n      <td>NaN</td>\n      <td>WD</td>\n      <td>Abnorml</td>\n    </tr>\n    <tr>\n      <th>2918</th>\n      <td>RL</td>\n      <td>Pave</td>\n      <td>NaN</td>\n      <td>Reg</td>\n      <td>Lvl</td>\n      <td>AllPub</td>\n      <td>Inside</td>\n      <td>Gtl</td>\n      <td>Mitchel</td>\n      <td>Norm</td>\n      <td>...</td>\n      <td>NaN</td>\n      <td>NaN</td>\n      <td>NaN</td>\n      <td>NaN</td>\n      <td>Y</td>\n      <td>NaN</td>\n      <td>MnPrv</td>\n      <td>Shed</td>\n      <td>WD</td>\n      <td>Normal</td>\n    </tr>\n    <tr>\n      <th>2919</th>\n      <td>RL</td>\n      <td>Pave</td>\n      <td>NaN</td>\n      <td>Reg</td>\n      <td>Lvl</td>\n      <td>AllPub</td>\n      <td>Inside</td>\n      <td>Mod</td>\n      <td>Mitchel</td>\n      <td>Norm</td>\n      <td>...</td>\n      <td>Attchd</td>\n      <td>Fin</td>\n      <td>TA</td>\n      <td>TA</td>\n      <td>Y</td>\n      <td>NaN</td>\n      <td>NaN</td>\n      <td>NaN</td>\n      <td>WD</td>\n      <td>Normal</td>\n    </tr>\n  </tbody>\n</table>\n<p>2919 rows × 43 columns</p>\n</div>"
     },
     "execution_count": 18,
     "metadata": {},
     "output_type": "execute_result"
    }
   ],
   "source": [
    "df_object"
   ],
   "metadata": {
    "collapsed": false,
    "ExecuteTime": {
     "end_time": "2024-10-08T12:57:53.221456700Z",
     "start_time": "2024-10-08T12:57:53.147142Z"
    }
   },
   "id": "725113fb0f4a388",
   "execution_count": 18
  },
  {
   "cell_type": "code",
   "outputs": [
    {
     "ename": "ValueError",
     "evalue": "could not convert string to float: 'RL'",
     "output_type": "error",
     "traceback": [
      "\u001B[1;31m---------------------------------------------------------------------------\u001B[0m",
      "\u001B[1;31mValueError\u001B[0m                                Traceback (most recent call last)",
      "Cell \u001B[1;32mIn[19], line 1\u001B[0m\n\u001B[1;32m----> 1\u001B[0m sns\u001B[38;5;241m.\u001B[39mheatmap(df_object)\n",
      "File \u001B[1;32m~\\anaconda3\\Lib\\site-packages\\seaborn\\matrix.py:446\u001B[0m, in \u001B[0;36mheatmap\u001B[1;34m(data, vmin, vmax, cmap, center, robust, annot, fmt, annot_kws, linewidths, linecolor, cbar, cbar_kws, cbar_ax, square, xticklabels, yticklabels, mask, ax, **kwargs)\u001B[0m\n\u001B[0;32m    365\u001B[0m \u001B[38;5;250m\u001B[39m\u001B[38;5;124;03m\"\"\"Plot rectangular data as a color-encoded matrix.\u001B[39;00m\n\u001B[0;32m    366\u001B[0m \n\u001B[0;32m    367\u001B[0m \u001B[38;5;124;03mThis is an Axes-level function and will draw the heatmap into the\u001B[39;00m\n\u001B[1;32m   (...)\u001B[0m\n\u001B[0;32m    443\u001B[0m \n\u001B[0;32m    444\u001B[0m \u001B[38;5;124;03m\"\"\"\u001B[39;00m\n\u001B[0;32m    445\u001B[0m \u001B[38;5;66;03m# Initialize the plotter object\u001B[39;00m\n\u001B[1;32m--> 446\u001B[0m plotter \u001B[38;5;241m=\u001B[39m _HeatMapper(data, vmin, vmax, cmap, center, robust, annot, fmt,\n\u001B[0;32m    447\u001B[0m                       annot_kws, cbar, cbar_kws, xticklabels,\n\u001B[0;32m    448\u001B[0m                       yticklabels, mask)\n\u001B[0;32m    450\u001B[0m \u001B[38;5;66;03m# Add the pcolormesh kwargs here\u001B[39;00m\n\u001B[0;32m    451\u001B[0m kwargs[\u001B[38;5;124m\"\u001B[39m\u001B[38;5;124mlinewidths\u001B[39m\u001B[38;5;124m\"\u001B[39m] \u001B[38;5;241m=\u001B[39m linewidths\n",
      "File \u001B[1;32m~\\anaconda3\\Lib\\site-packages\\seaborn\\matrix.py:163\u001B[0m, in \u001B[0;36m_HeatMapper.__init__\u001B[1;34m(self, data, vmin, vmax, cmap, center, robust, annot, fmt, annot_kws, cbar, cbar_kws, xticklabels, yticklabels, mask)\u001B[0m\n\u001B[0;32m    160\u001B[0m \u001B[38;5;28mself\u001B[39m\u001B[38;5;241m.\u001B[39mylabel \u001B[38;5;241m=\u001B[39m ylabel \u001B[38;5;28;01mif\u001B[39;00m ylabel \u001B[38;5;129;01mis\u001B[39;00m \u001B[38;5;129;01mnot\u001B[39;00m \u001B[38;5;28;01mNone\u001B[39;00m \u001B[38;5;28;01melse\u001B[39;00m \u001B[38;5;124m\"\u001B[39m\u001B[38;5;124m\"\u001B[39m\n\u001B[0;32m    162\u001B[0m \u001B[38;5;66;03m# Determine good default values for the colormapping\u001B[39;00m\n\u001B[1;32m--> 163\u001B[0m \u001B[38;5;28mself\u001B[39m\u001B[38;5;241m.\u001B[39m_determine_cmap_params(plot_data, vmin, vmax,\n\u001B[0;32m    164\u001B[0m                             cmap, center, robust)\n\u001B[0;32m    166\u001B[0m \u001B[38;5;66;03m# Sort out the annotations\u001B[39;00m\n\u001B[0;32m    167\u001B[0m \u001B[38;5;28;01mif\u001B[39;00m annot \u001B[38;5;129;01mis\u001B[39;00m \u001B[38;5;28;01mNone\u001B[39;00m \u001B[38;5;129;01mor\u001B[39;00m annot \u001B[38;5;129;01mis\u001B[39;00m \u001B[38;5;28;01mFalse\u001B[39;00m:\n",
      "File \u001B[1;32m~\\anaconda3\\Lib\\site-packages\\seaborn\\matrix.py:197\u001B[0m, in \u001B[0;36m_HeatMapper._determine_cmap_params\u001B[1;34m(self, plot_data, vmin, vmax, cmap, center, robust)\u001B[0m\n\u001B[0;32m    194\u001B[0m \u001B[38;5;250m\u001B[39m\u001B[38;5;124;03m\"\"\"Use some heuristics to set good defaults for colorbar and range.\"\"\"\u001B[39;00m\n\u001B[0;32m    196\u001B[0m \u001B[38;5;66;03m# plot_data is a np.ma.array instance\u001B[39;00m\n\u001B[1;32m--> 197\u001B[0m calc_data \u001B[38;5;241m=\u001B[39m plot_data\u001B[38;5;241m.\u001B[39mastype(\u001B[38;5;28mfloat\u001B[39m)\u001B[38;5;241m.\u001B[39mfilled(np\u001B[38;5;241m.\u001B[39mnan)\n\u001B[0;32m    198\u001B[0m \u001B[38;5;28;01mif\u001B[39;00m vmin \u001B[38;5;129;01mis\u001B[39;00m \u001B[38;5;28;01mNone\u001B[39;00m:\n\u001B[0;32m    199\u001B[0m     \u001B[38;5;28;01mif\u001B[39;00m robust:\n",
      "\u001B[1;31mValueError\u001B[0m: could not convert string to float: 'RL'"
     ]
    }
   ],
   "source": [
    "sns.heatmap(df_object)"
   ],
   "metadata": {
    "collapsed": false,
    "ExecuteTime": {
     "end_time": "2024-10-08T12:57:55.229403500Z",
     "start_time": "2024-10-08T12:57:55.134485100Z"
    }
   },
   "id": "8de7e5ec248ab132",
   "execution_count": 19
  },
  {
   "cell_type": "code",
   "outputs": [],
   "source": [
    "df = df.drop(df[df_object.isnull().sum()[df_object.isnull().sum()>1100].index], axis = 1)\n"
   ],
   "metadata": {
    "collapsed": false,
    "ExecuteTime": {
     "end_time": "2024-10-08T12:57:57.767889400Z",
     "start_time": "2024-10-08T12:57:57.730137500Z"
    }
   },
   "id": "4e787d42844ccfc2",
   "execution_count": 20
  },
  {
   "cell_type": "code",
   "outputs": [],
   "source": [
    "df_object = df_object.drop(df_object[df_object.isnull().sum()[df_object.isnull().sum()>1100].index], axis = 1)"
   ],
   "metadata": {
    "collapsed": false,
    "ExecuteTime": {
     "end_time": "2024-10-08T12:57:59.290039100Z",
     "start_time": "2024-10-08T12:57:59.266691300Z"
    }
   },
   "id": "26da0bd75f4a7131",
   "execution_count": 21
  },
  {
   "cell_type": "code",
   "outputs": [
    {
     "data": {
      "text/plain": "     MSZoning Street LotShape LandContour Utilities LotConfig LandSlope  \\\nId                                                                        \n1          RL   Pave      Reg         Lvl    AllPub    Inside       Gtl   \n2          RL   Pave      Reg         Lvl    AllPub       FR2       Gtl   \n3          RL   Pave      IR1         Lvl    AllPub    Inside       Gtl   \n4          RL   Pave      IR1         Lvl    AllPub    Corner       Gtl   \n5          RL   Pave      IR1         Lvl    AllPub       FR2       Gtl   \n...       ...    ...      ...         ...       ...       ...       ...   \n2915       RM   Pave      Reg         Lvl    AllPub    Inside       Gtl   \n2916       RM   Pave      Reg         Lvl    AllPub    Inside       Gtl   \n2917       RL   Pave      Reg         Lvl    AllPub    Inside       Gtl   \n2918       RL   Pave      Reg         Lvl    AllPub    Inside       Gtl   \n2919       RL   Pave      Reg         Lvl    AllPub    Inside       Mod   \n\n     Neighborhood Condition1 Condition2  ... Electrical KitchenQual  \\\nId                                       ...                          \n1         CollgCr       Norm       Norm  ...      SBrkr          Gd   \n2         Veenker      Feedr       Norm  ...      SBrkr          TA   \n3         CollgCr       Norm       Norm  ...      SBrkr          Gd   \n4         Crawfor       Norm       Norm  ...      SBrkr          Gd   \n5         NoRidge       Norm       Norm  ...      SBrkr          Gd   \n...           ...        ...        ...  ...        ...         ...   \n2915      MeadowV       Norm       Norm  ...      SBrkr          TA   \n2916      MeadowV       Norm       Norm  ...      SBrkr          TA   \n2917      Mitchel       Norm       Norm  ...      SBrkr          TA   \n2918      Mitchel       Norm       Norm  ...      SBrkr          TA   \n2919      Mitchel       Norm       Norm  ...      SBrkr          TA   \n\n     Functional GarageType GarageFinish GarageQual GarageCond PavedDrive  \\\nId                                                                         \n1           Typ     Attchd          RFn         TA         TA          Y   \n2           Typ     Attchd          RFn         TA         TA          Y   \n3           Typ     Attchd          RFn         TA         TA          Y   \n4           Typ     Detchd          Unf         TA         TA          Y   \n5           Typ     Attchd          RFn         TA         TA          Y   \n...         ...        ...          ...        ...        ...        ...   \n2915        Typ        NaN          NaN        NaN        NaN          Y   \n2916        Typ    CarPort          Unf         TA         TA          Y   \n2917        Typ     Detchd          Unf         TA         TA          Y   \n2918        Typ        NaN          NaN        NaN        NaN          Y   \n2919        Typ     Attchd          Fin         TA         TA          Y   \n\n     SaleType SaleCondition  \nId                           \n1          WD        Normal  \n2          WD        Normal  \n3          WD        Normal  \n4          WD       Abnorml  \n5          WD        Normal  \n...       ...           ...  \n2915       WD        Normal  \n2916       WD       Abnorml  \n2917       WD       Abnorml  \n2918       WD        Normal  \n2919       WD        Normal  \n\n[2919 rows x 37 columns]",
      "text/html": "<div>\n<style scoped>\n    .dataframe tbody tr th:only-of-type {\n        vertical-align: middle;\n    }\n\n    .dataframe tbody tr th {\n        vertical-align: top;\n    }\n\n    .dataframe thead th {\n        text-align: right;\n    }\n</style>\n<table border=\"1\" class=\"dataframe\">\n  <thead>\n    <tr style=\"text-align: right;\">\n      <th></th>\n      <th>MSZoning</th>\n      <th>Street</th>\n      <th>LotShape</th>\n      <th>LandContour</th>\n      <th>Utilities</th>\n      <th>LotConfig</th>\n      <th>LandSlope</th>\n      <th>Neighborhood</th>\n      <th>Condition1</th>\n      <th>Condition2</th>\n      <th>...</th>\n      <th>Electrical</th>\n      <th>KitchenQual</th>\n      <th>Functional</th>\n      <th>GarageType</th>\n      <th>GarageFinish</th>\n      <th>GarageQual</th>\n      <th>GarageCond</th>\n      <th>PavedDrive</th>\n      <th>SaleType</th>\n      <th>SaleCondition</th>\n    </tr>\n    <tr>\n      <th>Id</th>\n      <th></th>\n      <th></th>\n      <th></th>\n      <th></th>\n      <th></th>\n      <th></th>\n      <th></th>\n      <th></th>\n      <th></th>\n      <th></th>\n      <th></th>\n      <th></th>\n      <th></th>\n      <th></th>\n      <th></th>\n      <th></th>\n      <th></th>\n      <th></th>\n      <th></th>\n      <th></th>\n      <th></th>\n    </tr>\n  </thead>\n  <tbody>\n    <tr>\n      <th>1</th>\n      <td>RL</td>\n      <td>Pave</td>\n      <td>Reg</td>\n      <td>Lvl</td>\n      <td>AllPub</td>\n      <td>Inside</td>\n      <td>Gtl</td>\n      <td>CollgCr</td>\n      <td>Norm</td>\n      <td>Norm</td>\n      <td>...</td>\n      <td>SBrkr</td>\n      <td>Gd</td>\n      <td>Typ</td>\n      <td>Attchd</td>\n      <td>RFn</td>\n      <td>TA</td>\n      <td>TA</td>\n      <td>Y</td>\n      <td>WD</td>\n      <td>Normal</td>\n    </tr>\n    <tr>\n      <th>2</th>\n      <td>RL</td>\n      <td>Pave</td>\n      <td>Reg</td>\n      <td>Lvl</td>\n      <td>AllPub</td>\n      <td>FR2</td>\n      <td>Gtl</td>\n      <td>Veenker</td>\n      <td>Feedr</td>\n      <td>Norm</td>\n      <td>...</td>\n      <td>SBrkr</td>\n      <td>TA</td>\n      <td>Typ</td>\n      <td>Attchd</td>\n      <td>RFn</td>\n      <td>TA</td>\n      <td>TA</td>\n      <td>Y</td>\n      <td>WD</td>\n      <td>Normal</td>\n    </tr>\n    <tr>\n      <th>3</th>\n      <td>RL</td>\n      <td>Pave</td>\n      <td>IR1</td>\n      <td>Lvl</td>\n      <td>AllPub</td>\n      <td>Inside</td>\n      <td>Gtl</td>\n      <td>CollgCr</td>\n      <td>Norm</td>\n      <td>Norm</td>\n      <td>...</td>\n      <td>SBrkr</td>\n      <td>Gd</td>\n      <td>Typ</td>\n      <td>Attchd</td>\n      <td>RFn</td>\n      <td>TA</td>\n      <td>TA</td>\n      <td>Y</td>\n      <td>WD</td>\n      <td>Normal</td>\n    </tr>\n    <tr>\n      <th>4</th>\n      <td>RL</td>\n      <td>Pave</td>\n      <td>IR1</td>\n      <td>Lvl</td>\n      <td>AllPub</td>\n      <td>Corner</td>\n      <td>Gtl</td>\n      <td>Crawfor</td>\n      <td>Norm</td>\n      <td>Norm</td>\n      <td>...</td>\n      <td>SBrkr</td>\n      <td>Gd</td>\n      <td>Typ</td>\n      <td>Detchd</td>\n      <td>Unf</td>\n      <td>TA</td>\n      <td>TA</td>\n      <td>Y</td>\n      <td>WD</td>\n      <td>Abnorml</td>\n    </tr>\n    <tr>\n      <th>5</th>\n      <td>RL</td>\n      <td>Pave</td>\n      <td>IR1</td>\n      <td>Lvl</td>\n      <td>AllPub</td>\n      <td>FR2</td>\n      <td>Gtl</td>\n      <td>NoRidge</td>\n      <td>Norm</td>\n      <td>Norm</td>\n      <td>...</td>\n      <td>SBrkr</td>\n      <td>Gd</td>\n      <td>Typ</td>\n      <td>Attchd</td>\n      <td>RFn</td>\n      <td>TA</td>\n      <td>TA</td>\n      <td>Y</td>\n      <td>WD</td>\n      <td>Normal</td>\n    </tr>\n    <tr>\n      <th>...</th>\n      <td>...</td>\n      <td>...</td>\n      <td>...</td>\n      <td>...</td>\n      <td>...</td>\n      <td>...</td>\n      <td>...</td>\n      <td>...</td>\n      <td>...</td>\n      <td>...</td>\n      <td>...</td>\n      <td>...</td>\n      <td>...</td>\n      <td>...</td>\n      <td>...</td>\n      <td>...</td>\n      <td>...</td>\n      <td>...</td>\n      <td>...</td>\n      <td>...</td>\n      <td>...</td>\n    </tr>\n    <tr>\n      <th>2915</th>\n      <td>RM</td>\n      <td>Pave</td>\n      <td>Reg</td>\n      <td>Lvl</td>\n      <td>AllPub</td>\n      <td>Inside</td>\n      <td>Gtl</td>\n      <td>MeadowV</td>\n      <td>Norm</td>\n      <td>Norm</td>\n      <td>...</td>\n      <td>SBrkr</td>\n      <td>TA</td>\n      <td>Typ</td>\n      <td>NaN</td>\n      <td>NaN</td>\n      <td>NaN</td>\n      <td>NaN</td>\n      <td>Y</td>\n      <td>WD</td>\n      <td>Normal</td>\n    </tr>\n    <tr>\n      <th>2916</th>\n      <td>RM</td>\n      <td>Pave</td>\n      <td>Reg</td>\n      <td>Lvl</td>\n      <td>AllPub</td>\n      <td>Inside</td>\n      <td>Gtl</td>\n      <td>MeadowV</td>\n      <td>Norm</td>\n      <td>Norm</td>\n      <td>...</td>\n      <td>SBrkr</td>\n      <td>TA</td>\n      <td>Typ</td>\n      <td>CarPort</td>\n      <td>Unf</td>\n      <td>TA</td>\n      <td>TA</td>\n      <td>Y</td>\n      <td>WD</td>\n      <td>Abnorml</td>\n    </tr>\n    <tr>\n      <th>2917</th>\n      <td>RL</td>\n      <td>Pave</td>\n      <td>Reg</td>\n      <td>Lvl</td>\n      <td>AllPub</td>\n      <td>Inside</td>\n      <td>Gtl</td>\n      <td>Mitchel</td>\n      <td>Norm</td>\n      <td>Norm</td>\n      <td>...</td>\n      <td>SBrkr</td>\n      <td>TA</td>\n      <td>Typ</td>\n      <td>Detchd</td>\n      <td>Unf</td>\n      <td>TA</td>\n      <td>TA</td>\n      <td>Y</td>\n      <td>WD</td>\n      <td>Abnorml</td>\n    </tr>\n    <tr>\n      <th>2918</th>\n      <td>RL</td>\n      <td>Pave</td>\n      <td>Reg</td>\n      <td>Lvl</td>\n      <td>AllPub</td>\n      <td>Inside</td>\n      <td>Gtl</td>\n      <td>Mitchel</td>\n      <td>Norm</td>\n      <td>Norm</td>\n      <td>...</td>\n      <td>SBrkr</td>\n      <td>TA</td>\n      <td>Typ</td>\n      <td>NaN</td>\n      <td>NaN</td>\n      <td>NaN</td>\n      <td>NaN</td>\n      <td>Y</td>\n      <td>WD</td>\n      <td>Normal</td>\n    </tr>\n    <tr>\n      <th>2919</th>\n      <td>RL</td>\n      <td>Pave</td>\n      <td>Reg</td>\n      <td>Lvl</td>\n      <td>AllPub</td>\n      <td>Inside</td>\n      <td>Mod</td>\n      <td>Mitchel</td>\n      <td>Norm</td>\n      <td>Norm</td>\n      <td>...</td>\n      <td>SBrkr</td>\n      <td>TA</td>\n      <td>Typ</td>\n      <td>Attchd</td>\n      <td>Fin</td>\n      <td>TA</td>\n      <td>TA</td>\n      <td>Y</td>\n      <td>WD</td>\n      <td>Normal</td>\n    </tr>\n  </tbody>\n</table>\n<p>2919 rows × 37 columns</p>\n</div>"
     },
     "execution_count": 22,
     "metadata": {},
     "output_type": "execute_result"
    }
   ],
   "source": [
    "df_object"
   ],
   "metadata": {
    "collapsed": false,
    "ExecuteTime": {
     "end_time": "2024-10-08T12:58:00.731560200Z",
     "start_time": "2024-10-08T12:58:00.683049300Z"
    }
   },
   "id": "6db2f6c74d1897f",
   "execution_count": 22
  },
  {
   "cell_type": "code",
   "outputs": [],
   "source": [
    "for column in df_object.columns:\n",
    "    mode = df_object[column].mode()[0]\n",
    "    df_object[column].fillna(mode, inplace = True)"
   ],
   "metadata": {
    "collapsed": false,
    "ExecuteTime": {
     "end_time": "2024-10-08T12:58:02.018481300Z",
     "start_time": "2024-10-08T12:58:01.981215100Z"
    }
   },
   "id": "516b6f3d1705a2fc",
   "execution_count": 23
  },
  {
   "cell_type": "code",
   "outputs": [
    {
     "data": {
      "text/plain": "MSZoning         0\nStreet           0\nLotShape         0\nLandContour      0\nUtilities        0\nLotConfig        0\nLandSlope        0\nNeighborhood     0\nCondition1       0\nCondition2       0\nBldgType         0\nHouseStyle       0\nRoofStyle        0\nRoofMatl         0\nExterior1st      0\nExterior2nd      0\nExterQual        0\nExterCond        0\nFoundation       0\nBsmtQual         0\nBsmtCond         0\nBsmtExposure     0\nBsmtFinType1     0\nBsmtFinType2     0\nHeating          0\nHeatingQC        0\nCentralAir       0\nElectrical       0\nKitchenQual      0\nFunctional       0\nGarageType       0\nGarageFinish     0\nGarageQual       0\nGarageCond       0\nPavedDrive       0\nSaleType         0\nSaleCondition    0\ndtype: int64"
     },
     "execution_count": 24,
     "metadata": {},
     "output_type": "execute_result"
    }
   ],
   "source": [
    "df_object.isnull().sum()"
   ],
   "metadata": {
    "collapsed": false,
    "ExecuteTime": {
     "end_time": "2024-10-08T12:58:03.033868100Z",
     "start_time": "2024-10-08T12:58:02.988287200Z"
    }
   },
   "id": "ae72f4d768d9cb40",
   "execution_count": 24
  },
  {
   "cell_type": "code",
   "outputs": [],
   "source": [
    "df_object_encoded = pd.get_dummies(df_object)"
   ],
   "metadata": {
    "collapsed": false,
    "ExecuteTime": {
     "end_time": "2024-10-08T12:58:04.048243500Z",
     "start_time": "2024-10-08T12:58:03.995849100Z"
    }
   },
   "id": "6ba7dfe162f470e1",
   "execution_count": 25
  },
  {
   "cell_type": "code",
   "outputs": [
    {
     "data": {
      "text/plain": "    MSZoning_C (all)  MSZoning_FV  MSZoning_RH  MSZoning_RL  MSZoning_RM  \\\nId                                                                         \n1              False        False        False         True        False   \n2              False        False        False         True        False   \n3              False        False        False         True        False   \n4              False        False        False         True        False   \n5              False        False        False         True        False   \n\n    Street_Grvl  Street_Pave  LotShape_IR1  LotShape_IR2  LotShape_IR3  ...  \\\nId                                                                      ...   \n1         False         True         False         False         False  ...   \n2         False         True         False         False         False  ...   \n3         False         True          True         False         False  ...   \n4         False         True          True         False         False  ...   \n5         False         True          True         False         False  ...   \n\n    SaleType_ConLw  SaleType_New  SaleType_Oth  SaleType_WD  \\\nId                                                            \n1            False         False         False         True   \n2            False         False         False         True   \n3            False         False         False         True   \n4            False         False         False         True   \n5            False         False         False         True   \n\n    SaleCondition_Abnorml  SaleCondition_AdjLand  SaleCondition_Alloca  \\\nId                                                                       \n1                   False                  False                 False   \n2                   False                  False                 False   \n3                   False                  False                 False   \n4                    True                  False                 False   \n5                   False                  False                 False   \n\n    SaleCondition_Family  SaleCondition_Normal  SaleCondition_Partial  \nId                                                                     \n1                  False                  True                  False  \n2                  False                  True                  False  \n3                  False                  True                  False  \n4                  False                 False                  False  \n5                  False                  True                  False  \n\n[5 rows x 230 columns]",
      "text/html": "<div>\n<style scoped>\n    .dataframe tbody tr th:only-of-type {\n        vertical-align: middle;\n    }\n\n    .dataframe tbody tr th {\n        vertical-align: top;\n    }\n\n    .dataframe thead th {\n        text-align: right;\n    }\n</style>\n<table border=\"1\" class=\"dataframe\">\n  <thead>\n    <tr style=\"text-align: right;\">\n      <th></th>\n      <th>MSZoning_C (all)</th>\n      <th>MSZoning_FV</th>\n      <th>MSZoning_RH</th>\n      <th>MSZoning_RL</th>\n      <th>MSZoning_RM</th>\n      <th>Street_Grvl</th>\n      <th>Street_Pave</th>\n      <th>LotShape_IR1</th>\n      <th>LotShape_IR2</th>\n      <th>LotShape_IR3</th>\n      <th>...</th>\n      <th>SaleType_ConLw</th>\n      <th>SaleType_New</th>\n      <th>SaleType_Oth</th>\n      <th>SaleType_WD</th>\n      <th>SaleCondition_Abnorml</th>\n      <th>SaleCondition_AdjLand</th>\n      <th>SaleCondition_Alloca</th>\n      <th>SaleCondition_Family</th>\n      <th>SaleCondition_Normal</th>\n      <th>SaleCondition_Partial</th>\n    </tr>\n    <tr>\n      <th>Id</th>\n      <th></th>\n      <th></th>\n      <th></th>\n      <th></th>\n      <th></th>\n      <th></th>\n      <th></th>\n      <th></th>\n      <th></th>\n      <th></th>\n      <th></th>\n      <th></th>\n      <th></th>\n      <th></th>\n      <th></th>\n      <th></th>\n      <th></th>\n      <th></th>\n      <th></th>\n      <th></th>\n      <th></th>\n    </tr>\n  </thead>\n  <tbody>\n    <tr>\n      <th>1</th>\n      <td>False</td>\n      <td>False</td>\n      <td>False</td>\n      <td>True</td>\n      <td>False</td>\n      <td>False</td>\n      <td>True</td>\n      <td>False</td>\n      <td>False</td>\n      <td>False</td>\n      <td>...</td>\n      <td>False</td>\n      <td>False</td>\n      <td>False</td>\n      <td>True</td>\n      <td>False</td>\n      <td>False</td>\n      <td>False</td>\n      <td>False</td>\n      <td>True</td>\n      <td>False</td>\n    </tr>\n    <tr>\n      <th>2</th>\n      <td>False</td>\n      <td>False</td>\n      <td>False</td>\n      <td>True</td>\n      <td>False</td>\n      <td>False</td>\n      <td>True</td>\n      <td>False</td>\n      <td>False</td>\n      <td>False</td>\n      <td>...</td>\n      <td>False</td>\n      <td>False</td>\n      <td>False</td>\n      <td>True</td>\n      <td>False</td>\n      <td>False</td>\n      <td>False</td>\n      <td>False</td>\n      <td>True</td>\n      <td>False</td>\n    </tr>\n    <tr>\n      <th>3</th>\n      <td>False</td>\n      <td>False</td>\n      <td>False</td>\n      <td>True</td>\n      <td>False</td>\n      <td>False</td>\n      <td>True</td>\n      <td>True</td>\n      <td>False</td>\n      <td>False</td>\n      <td>...</td>\n      <td>False</td>\n      <td>False</td>\n      <td>False</td>\n      <td>True</td>\n      <td>False</td>\n      <td>False</td>\n      <td>False</td>\n      <td>False</td>\n      <td>True</td>\n      <td>False</td>\n    </tr>\n    <tr>\n      <th>4</th>\n      <td>False</td>\n      <td>False</td>\n      <td>False</td>\n      <td>True</td>\n      <td>False</td>\n      <td>False</td>\n      <td>True</td>\n      <td>True</td>\n      <td>False</td>\n      <td>False</td>\n      <td>...</td>\n      <td>False</td>\n      <td>False</td>\n      <td>False</td>\n      <td>True</td>\n      <td>True</td>\n      <td>False</td>\n      <td>False</td>\n      <td>False</td>\n      <td>False</td>\n      <td>False</td>\n    </tr>\n    <tr>\n      <th>5</th>\n      <td>False</td>\n      <td>False</td>\n      <td>False</td>\n      <td>True</td>\n      <td>False</td>\n      <td>False</td>\n      <td>True</td>\n      <td>True</td>\n      <td>False</td>\n      <td>False</td>\n      <td>...</td>\n      <td>False</td>\n      <td>False</td>\n      <td>False</td>\n      <td>True</td>\n      <td>False</td>\n      <td>False</td>\n      <td>False</td>\n      <td>False</td>\n      <td>True</td>\n      <td>False</td>\n    </tr>\n  </tbody>\n</table>\n<p>5 rows × 230 columns</p>\n</div>"
     },
     "execution_count": 26,
     "metadata": {},
     "output_type": "execute_result"
    }
   ],
   "source": [
    "df_object_encoded.head()"
   ],
   "metadata": {
    "collapsed": false,
    "ExecuteTime": {
     "end_time": "2024-10-08T12:58:05.023965900Z",
     "start_time": "2024-10-08T12:58:04.972275600Z"
    }
   },
   "id": "14a0c54852a9e00c",
   "execution_count": 26
  },
  {
   "cell_type": "code",
   "outputs": [],
   "source": [
    "df_new = pd.concat([df, df_object_encoded], axis=1)"
   ],
   "metadata": {
    "collapsed": false,
    "ExecuteTime": {
     "end_time": "2024-10-08T12:58:07.641423500Z",
     "start_time": "2024-10-08T12:58:07.574947200Z"
    }
   },
   "id": "8373069c36df814b",
   "execution_count": 27
  },
  {
   "cell_type": "code",
   "outputs": [
    {
     "data": {
      "text/plain": "(2919, 304)"
     },
     "execution_count": 28,
     "metadata": {},
     "output_type": "execute_result"
    }
   ],
   "source": [
    "df_new.shape"
   ],
   "metadata": {
    "collapsed": false,
    "ExecuteTime": {
     "end_time": "2024-10-08T12:58:08.590490900Z",
     "start_time": "2024-10-08T12:58:08.545116700Z"
    }
   },
   "id": "75ad2f1cbc0d3dce",
   "execution_count": 28
  },
  {
   "cell_type": "code",
   "outputs": [
    {
     "data": {
      "text/plain": "MSSubClass                 0\nMSZoning                   4\nLotFrontage              486\nLotArea                    0\nStreet                     0\n                        ... \nSaleCondition_AdjLand      0\nSaleCondition_Alloca       0\nSaleCondition_Family       0\nSaleCondition_Normal       0\nSaleCondition_Partial      0\nLength: 304, dtype: int64"
     },
     "execution_count": 29,
     "metadata": {},
     "output_type": "execute_result"
    }
   ],
   "source": [
    "df_new.isnull().sum()"
   ],
   "metadata": {
    "collapsed": false,
    "ExecuteTime": {
     "end_time": "2024-10-08T12:58:09.403289100Z",
     "start_time": "2024-10-08T12:58:09.373061400Z"
    }
   },
   "id": "f0ee0ca832ee093f",
   "execution_count": 29
  },
  {
   "cell_type": "code",
   "outputs": [],
   "source": [
    "df_new = df_new.drop(df.select_dtypes(include=['object']), axis = 1)"
   ],
   "metadata": {
    "collapsed": false,
    "ExecuteTime": {
     "end_time": "2024-10-08T12:58:10.507132700Z",
     "start_time": "2024-10-08T12:58:10.473698700Z"
    }
   },
   "id": "8eb1cefc6045b224",
   "execution_count": 30
  },
  {
   "cell_type": "code",
   "outputs": [
    {
     "data": {
      "text/plain": "(2919, 267)"
     },
     "execution_count": 31,
     "metadata": {},
     "output_type": "execute_result"
    }
   ],
   "source": [
    "df_new.shape"
   ],
   "metadata": {
    "collapsed": false,
    "ExecuteTime": {
     "end_time": "2024-10-08T12:58:11.412527800Z",
     "start_time": "2024-10-08T12:58:11.373087400Z"
    }
   },
   "id": "b78a87c31cdd72d0",
   "execution_count": 31
  },
  {
   "cell_type": "code",
   "outputs": [
    {
     "data": {
      "text/plain": "LotFrontage     486\nMasVnrArea       23\nBsmtFinSF1        1\nBsmtFinSF2        1\nBsmtUnfSF         1\nTotalBsmtSF       1\nBsmtFullBath      2\nBsmtHalfBath      2\nGarageYrBlt     159\nGarageCars        1\nGarageArea        1\ndtype: int64"
     },
     "execution_count": 32,
     "metadata": {},
     "output_type": "execute_result"
    }
   ],
   "source": [
    "df_new.isnull().sum()[df_new.isnull().sum()>0]"
   ],
   "metadata": {
    "collapsed": false,
    "ExecuteTime": {
     "end_time": "2024-10-08T12:58:12.195175900Z",
     "start_time": "2024-10-08T12:58:12.148363700Z"
    }
   },
   "id": "5a59feab0130ed25",
   "execution_count": 32
  },
  {
   "cell_type": "code",
   "outputs": [],
   "source": [
    "median_columns = [\n",
    "    'LotFrontage',  # Continuous numeric, robust to outliers\n",
    "    'MasVnrArea',   # Continuous numeric, masonry area\n",
    "    'TotalBsmtSF',  # Total basement area\n",
    "    'GarageYrBlt',  # Year garage was built, year data\n",
    "    'GarageArea'    # Continuous numeric, garage area\n",
    "]\n",
    "\n",
    "mode_columns = [\n",
    "    'BsmtFullBath',  # Discrete numeric (count of full bathrooms)\n",
    "    'BsmtHalfBath',  # Discrete numeric (count of half bathrooms)\n",
    "    'GarageCars'     # Discrete numeric (car capacity in garage)\n",
    "]"
   ],
   "metadata": {
    "collapsed": false,
    "ExecuteTime": {
     "end_time": "2024-10-08T12:58:13.419468800Z",
     "start_time": "2024-10-08T12:58:13.381291800Z"
    }
   },
   "id": "1ee0a7c4940143cc",
   "execution_count": 33
  },
  {
   "cell_type": "code",
   "outputs": [],
   "source": [
    "for column in median_columns:\n",
    "    df_new[column].fillna(df_new[column].median(), inplace=True)\n",
    "    \n",
    "for column in mode_columns:\n",
    "    df_new[column].fillna(df_new[column].mode()[0], inplace=True)"
   ],
   "metadata": {
    "collapsed": false,
    "ExecuteTime": {
     "end_time": "2024-10-08T12:58:14.181235300Z",
     "start_time": "2024-10-08T12:58:14.145113200Z"
    }
   },
   "id": "435dd5e6d518d770",
   "execution_count": 34
  },
  {
   "cell_type": "code",
   "outputs": [
    {
     "data": {
      "text/plain": "BsmtFinSF1    1\nBsmtFinSF2    1\nBsmtUnfSF     1\ndtype: int64"
     },
     "execution_count": 35,
     "metadata": {},
     "output_type": "execute_result"
    }
   ],
   "source": [
    "df_new.isnull().sum()[df_new.isnull().sum()>0]"
   ],
   "metadata": {
    "collapsed": false,
    "ExecuteTime": {
     "end_time": "2024-10-08T12:58:15.085016400Z",
     "start_time": "2024-10-08T12:58:15.046837200Z"
    }
   },
   "id": "283631bef3c2dc0b",
   "execution_count": 35
  },
  {
   "cell_type": "code",
   "outputs": [],
   "source": [
    "# Filling the missing values with the median for each column\n",
    "df_new['BsmtFinSF1'].fillna(df_new['BsmtFinSF1'].median(), inplace=True)\n",
    "df_new['BsmtFinSF2'].fillna(df_new['BsmtFinSF2'].median(), inplace=True)\n",
    "df_new['BsmtUnfSF'].fillna(df_new['BsmtUnfSF'].median(), inplace=True)\n"
   ],
   "metadata": {
    "collapsed": false,
    "ExecuteTime": {
     "end_time": "2024-10-08T12:58:15.816071900Z",
     "start_time": "2024-10-08T12:58:15.795784700Z"
    }
   },
   "id": "c28dacea74280bfd",
   "execution_count": 36
  },
  {
   "cell_type": "code",
   "outputs": [
    {
     "data": {
      "text/plain": "Series([], dtype: int64)"
     },
     "execution_count": 37,
     "metadata": {},
     "output_type": "execute_result"
    }
   ],
   "source": [
    "df_new.isnull().sum()[df_new.isnull().sum()>0]"
   ],
   "metadata": {
    "collapsed": false,
    "ExecuteTime": {
     "end_time": "2024-10-08T12:58:17.052712900Z",
     "start_time": "2024-10-08T12:58:16.997950100Z"
    }
   },
   "id": "a28baf210d23d746",
   "execution_count": 37
  },
  {
   "cell_type": "code",
   "outputs": [],
   "source": [],
   "metadata": {
    "collapsed": false,
    "ExecuteTime": {
     "end_time": "2024-10-08T12:58:51.631010Z",
     "start_time": "2024-10-08T12:58:51.598886800Z"
    }
   },
   "id": "a0ffb78f6bd90120",
   "execution_count": 37
  },
  {
   "cell_type": "code",
   "outputs": [],
   "source": [
    "traning_data = df_new[0:len(df_1)]\n",
    "testing_data = df_new[len(df_1):]\n",
    "testing_data = testing_data.drop(columns='SalePrice')"
   ],
   "metadata": {
    "collapsed": false,
    "ExecuteTime": {
     "end_time": "2024-10-08T13:00:18.022116900Z",
     "start_time": "2024-10-08T13:00:17.985812600Z"
    }
   },
   "id": "9e5f17e224634712",
   "execution_count": 39
  },
  {
   "cell_type": "code",
   "outputs": [],
   "source": [],
   "metadata": {
    "collapsed": false,
    "ExecuteTime": {
     "end_time": "2024-10-08T13:01:21.944990800Z",
     "start_time": "2024-10-08T13:01:21.909408100Z"
    }
   },
   "id": "599367358730cfed",
   "execution_count": 39
  },
  {
   "cell_type": "code",
   "outputs": [],
   "source": [
    "from sklearn.model_selection import train_test_split\n",
    "from sklearn.metrics import mean_squared_error\n",
    "from sklearn.linear_model import LinearRegression\n",
    "from xgboost import XGBRegressor\n",
    "from sklearn.ensemble import RandomForestRegressor"
   ],
   "metadata": {
    "collapsed": false,
    "ExecuteTime": {
     "end_time": "2024-10-08T13:04:53.793349800Z",
     "start_time": "2024-10-08T13:04:43.304405Z"
    }
   },
   "id": "5485a375176d8e52",
   "execution_count": 40
  },
  {
   "cell_type": "code",
   "outputs": [],
   "source": [
    "x= traning_data.drop(columns='SalePrice')\n",
    "y = traning_data['SalePrice']"
   ],
   "metadata": {
    "collapsed": false,
    "ExecuteTime": {
     "end_time": "2024-10-08T13:05:04.682430300Z",
     "start_time": "2024-10-08T13:05:04.656944700Z"
    }
   },
   "id": "fd51d62b129bca35",
   "execution_count": 41
  },
  {
   "cell_type": "code",
   "outputs": [],
   "source": [
    "x_train, x_test, y_train, y_test = train_test_split(x, y, test_size=0.25, random_state=40)"
   ],
   "metadata": {
    "collapsed": false,
    "ExecuteTime": {
     "end_time": "2024-10-08T13:05:27.246055Z",
     "start_time": "2024-10-08T13:05:27.201936400Z"
    }
   },
   "id": "14d4c89934ad8c57",
   "execution_count": 42
  },
  {
   "cell_type": "code",
   "outputs": [],
   "source": [
    "y_test = np.reshape(y_test,(-1,1))\n",
    "y_train = np.reshape(y_train,(-1,1))"
   ],
   "metadata": {
    "collapsed": false,
    "ExecuteTime": {
     "end_time": "2024-10-08T13:08:39.933008400Z",
     "start_time": "2024-10-08T13:08:39.898495600Z"
    }
   },
   "id": "da22c3cac675a740",
   "execution_count": 44
  },
  {
   "cell_type": "code",
   "outputs": [
    {
     "data": {
      "text/plain": "(365, 1)"
     },
     "execution_count": 45,
     "metadata": {},
     "output_type": "execute_result"
    }
   ],
   "source": [
    "y_test.shape"
   ],
   "metadata": {
    "collapsed": false,
    "ExecuteTime": {
     "end_time": "2024-10-08T13:08:47.319468500Z",
     "start_time": "2024-10-08T13:08:47.286172100Z"
    }
   },
   "id": "cb89108242732faa",
   "execution_count": 45
  },
  {
   "cell_type": "code",
   "outputs": [
    {
     "data": {
      "text/plain": "(383543306.80881447, 0.9228228979818939)"
     },
     "execution_count": 59,
     "metadata": {},
     "output_type": "execute_result"
    }
   ],
   "source": [
    "lr = LinearRegression()\n",
    "lr.fit(x, y)\n",
    "y_pred = lr.predict(x_test)\n",
    "mean_squared_error(y_test, y_pred), lr.score(x_test, y_test)"
   ],
   "metadata": {
    "collapsed": false,
    "ExecuteTime": {
     "end_time": "2024-10-08T13:28:43.238906800Z",
     "start_time": "2024-10-08T13:28:43.096409300Z"
    }
   },
   "id": "736ba36d3dd7ef7a",
   "execution_count": 59
  },
  {
   "cell_type": "code",
   "outputs": [
    {
     "data": {
      "text/plain": "(2498.565273420778, 0.9999994972353223)"
     },
     "execution_count": 60,
     "metadata": {},
     "output_type": "execute_result"
    }
   ],
   "source": [
    "xgb = XGBRegressor(n_estimators=1000, learning_rate=0.1)\n",
    "xgb.fit(x, y)\n",
    "y_pred = xgb.predict(x_test)\n",
    "mean_squared_error(y_test, y_pred), xgb.score(x_test, y_test)"
   ],
   "metadata": {
    "collapsed": false,
    "ExecuteTime": {
     "end_time": "2024-10-08T13:28:54.370027200Z",
     "start_time": "2024-10-08T13:28:51.432464500Z"
    }
   },
   "id": "d5e2536f89369d19",
   "execution_count": 60
  },
  {
   "cell_type": "code",
   "outputs": [
    {
     "data": {
      "text/plain": "(80514061.3350989, 0.9837988518760714)"
     },
     "execution_count": 61,
     "metadata": {},
     "output_type": "execute_result"
    }
   ],
   "source": [
    "rfr = RandomForestRegressor()\n",
    "rfr.fit(x, y)\n",
    "y_pred = rfr.predict(x_test)\n",
    "mean_squared_error(y_test, y_pred), rfr.score(x_test, y_test)"
   ],
   "metadata": {
    "collapsed": false,
    "ExecuteTime": {
     "end_time": "2024-10-08T13:29:13.269000600Z",
     "start_time": "2024-10-08T13:29:01.055817200Z"
    }
   },
   "id": "803e2d7d84a10b39",
   "execution_count": 61
  },
  {
   "cell_type": "code",
   "outputs": [],
   "source": [],
   "metadata": {
    "collapsed": false,
    "ExecuteTime": {
     "end_time": "2024-10-08T13:24:58.686908100Z",
     "start_time": "2024-10-08T13:24:58.648900800Z"
    }
   },
   "id": "56f19b6a53fc197a",
   "execution_count": 56
  },
  {
   "cell_type": "code",
   "outputs": [],
   "source": [
    "from sklearn.ensemble import VotingRegressor"
   ],
   "metadata": {
    "collapsed": false,
    "ExecuteTime": {
     "end_time": "2024-10-08T13:25:11.845399500Z",
     "start_time": "2024-10-08T13:25:11.801266700Z"
    }
   },
   "id": "2c86070825aea9e7",
   "execution_count": 57
  },
  {
   "cell_type": "code",
   "outputs": [
    {
     "data": {
      "text/plain": "(18634689.362150878, 0.9962503026478433)"
     },
     "execution_count": 63,
     "metadata": {},
     "output_type": "execute_result"
    }
   ],
   "source": [
    "vr = VotingRegressor(estimators=[('rf', rfr), ('xgb', xgb)])\n",
    "vr.fit(x, y)\n",
    "y_pred = vr.predict(x_test)\n",
    "mean_squared_error(y_test, y_pred), vr.score(x_test, y_test)"
   ],
   "metadata": {
    "collapsed": false,
    "ExecuteTime": {
     "end_time": "2024-10-08T13:30:19.364179500Z",
     "start_time": "2024-10-08T13:30:05.853458600Z"
    }
   },
   "id": "e014265297d4af08",
   "execution_count": 63
  },
  {
   "cell_type": "code",
   "outputs": [],
   "source": [],
   "metadata": {
    "collapsed": false,
    "ExecuteTime": {
     "end_time": "2024-10-08T13:31:22.344581300Z",
     "start_time": "2024-10-08T13:31:22.304375200Z"
    }
   },
   "id": "923be0227da12145",
   "execution_count": 63
  },
  {
   "cell_type": "code",
   "outputs": [],
   "source": [
    "prd = xgb.predict(testing_data)\n",
    "\n",
    "final = pd.DataFrame()\n",
    "final['Id'] = testing_data.index\n",
    "final['SalePrice'] = prd\n",
    "\n",
    "final.to_csv('output.csv', index=False)"
   ],
   "metadata": {
    "collapsed": false,
    "ExecuteTime": {
     "end_time": "2024-10-08T13:33:33.648652800Z",
     "start_time": "2024-10-08T13:33:33.509213500Z"
    }
   },
   "id": "a0c42456fdcf12d9",
   "execution_count": 64
  },
  {
   "cell_type": "code",
   "outputs": [
    {
     "data": {
      "text/plain": "        Id      SalePrice\n0     1461  127547.226562\n1     1462  156726.890625\n2     1463  187729.515625\n3     1464  187201.953125\n4     1465  197683.562500\n...    ...            ...\n1454  2915   76425.976562\n1455  2916   78136.078125\n1456  2917  154498.734375\n1457  2918  111185.695312\n1458  2919  207285.937500\n\n[1459 rows x 2 columns]",
      "text/html": "<div>\n<style scoped>\n    .dataframe tbody tr th:only-of-type {\n        vertical-align: middle;\n    }\n\n    .dataframe tbody tr th {\n        vertical-align: top;\n    }\n\n    .dataframe thead th {\n        text-align: right;\n    }\n</style>\n<table border=\"1\" class=\"dataframe\">\n  <thead>\n    <tr style=\"text-align: right;\">\n      <th></th>\n      <th>Id</th>\n      <th>SalePrice</th>\n    </tr>\n  </thead>\n  <tbody>\n    <tr>\n      <th>0</th>\n      <td>1461</td>\n      <td>127547.226562</td>\n    </tr>\n    <tr>\n      <th>1</th>\n      <td>1462</td>\n      <td>156726.890625</td>\n    </tr>\n    <tr>\n      <th>2</th>\n      <td>1463</td>\n      <td>187729.515625</td>\n    </tr>\n    <tr>\n      <th>3</th>\n      <td>1464</td>\n      <td>187201.953125</td>\n    </tr>\n    <tr>\n      <th>4</th>\n      <td>1465</td>\n      <td>197683.562500</td>\n    </tr>\n    <tr>\n      <th>...</th>\n      <td>...</td>\n      <td>...</td>\n    </tr>\n    <tr>\n      <th>1454</th>\n      <td>2915</td>\n      <td>76425.976562</td>\n    </tr>\n    <tr>\n      <th>1455</th>\n      <td>2916</td>\n      <td>78136.078125</td>\n    </tr>\n    <tr>\n      <th>1456</th>\n      <td>2917</td>\n      <td>154498.734375</td>\n    </tr>\n    <tr>\n      <th>1457</th>\n      <td>2918</td>\n      <td>111185.695312</td>\n    </tr>\n    <tr>\n      <th>1458</th>\n      <td>2919</td>\n      <td>207285.937500</td>\n    </tr>\n  </tbody>\n</table>\n<p>1459 rows × 2 columns</p>\n</div>"
     },
     "execution_count": 65,
     "metadata": {},
     "output_type": "execute_result"
    }
   ],
   "source": [
    "final"
   ],
   "metadata": {
    "collapsed": false,
    "ExecuteTime": {
     "end_time": "2024-10-08T13:33:37.052445500Z",
     "start_time": "2024-10-08T13:33:37.002662100Z"
    }
   },
   "id": "98e64c7ef24d8393",
   "execution_count": 65
  },
  {
   "cell_type": "code",
   "outputs": [],
   "source": [],
   "metadata": {
    "collapsed": false,
    "ExecuteTime": {
     "end_time": "2024-10-08T13:37:53.670698800Z",
     "start_time": "2024-10-08T13:37:53.670698800Z"
    }
   },
   "id": "74ef3db057db16e9",
   "execution_count": 65
  },
  {
   "cell_type": "code",
   "outputs": [],
   "source": [
    "param_grid = {\n",
    "    'n_estimators': [100, 500, 1000],\n",
    "    'learning_rate': [0.01, 0.1, 0.2],\n",
    "    'max_depth': [3, 5, 7],\n",
    "    'subsample': [0.5, 0.7, 1.0],\n",
    "    'colsample_bytree': [0.5, 0.7, 1.0]\n",
    "}"
   ],
   "metadata": {
    "collapsed": false,
    "ExecuteTime": {
     "end_time": "2024-10-08T13:37:59.359269700Z",
     "start_time": "2024-10-08T13:37:59.320294900Z"
    }
   },
   "id": "3a74f8a5066697c1",
   "execution_count": 66
  },
  {
   "cell_type": "code",
   "outputs": [],
   "source": [
    "from sklearn.model_selection import GridSearchCV"
   ],
   "metadata": {
    "collapsed": false,
    "ExecuteTime": {
     "end_time": "2024-10-08T13:38:38.677595900Z",
     "start_time": "2024-10-08T13:38:38.642183300Z"
    }
   },
   "id": "2acf7049cb12b6e0",
   "execution_count": 67
  },
  {
   "cell_type": "code",
   "outputs": [],
   "source": [],
   "metadata": {
    "collapsed": false,
    "ExecuteTime": {
     "end_time": "2024-10-08T13:42:52.225529700Z",
     "start_time": "2024-10-08T13:42:52.184208400Z"
    }
   },
   "id": "df22f51822e9ae7d",
   "execution_count": 68
  },
  {
   "cell_type": "code",
   "outputs": [],
   "source": [],
   "metadata": {
    "collapsed": false,
    "ExecuteTime": {
     "start_time": "2024-10-08T12:57:31.810773800Z"
    }
   },
   "id": "7033d70421887749"
  },
  {
   "cell_type": "code",
   "outputs": [],
   "source": [],
   "metadata": {
    "collapsed": false,
    "ExecuteTime": {
     "start_time": "2024-10-08T12:57:31.811996100Z"
    }
   },
   "id": "e7be6fc83a1c6600"
  },
  {
   "cell_type": "code",
   "outputs": [],
   "source": [],
   "metadata": {
    "collapsed": false
   },
   "id": "9b49acef76fbb362"
  }
 ],
 "metadata": {
  "kernelspec": {
   "display_name": "Python 3",
   "language": "python",
   "name": "python3"
  },
  "language_info": {
   "codemirror_mode": {
    "name": "ipython",
    "version": 2
   },
   "file_extension": ".py",
   "mimetype": "text/x-python",
   "name": "python",
   "nbconvert_exporter": "python",
   "pygments_lexer": "ipython2",
   "version": "2.7.6"
  }
 },
 "nbformat": 4,
 "nbformat_minor": 5
}
